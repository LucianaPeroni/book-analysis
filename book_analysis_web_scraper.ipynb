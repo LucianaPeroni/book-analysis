{
  "nbformat": 4,
  "nbformat_minor": 0,
  "metadata": {
    "colab": {
      "name": "book-analysis-web scraper.ipynb",
      "provenance": [],
      "collapsed_sections": [],
      "authorship_tag": "ABX9TyPQdjyeMvi+72MRzLXz8Yi3",
      "include_colab_link": true
    },
    "kernelspec": {
      "name": "python3",
      "display_name": "Python 3"
    },
    "language_info": {
      "name": "python"
    }
  },
  "cells": [
    {
      "cell_type": "markdown",
      "metadata": {
        "id": "view-in-github",
        "colab_type": "text"
      },
      "source": [
        "<a href=\"https://colab.research.google.com/github/LucianaPeroni/book-analysis/blob/main/book_analysis_web_scraper.ipynb\" target=\"_parent\"><img src=\"https://colab.research.google.com/assets/colab-badge.svg\" alt=\"Open In Colab\"/></a>"
      ]
    },
    {
      "cell_type": "code",
      "execution_count": 2,
      "metadata": {
        "colab": {
          "base_uri": "https://localhost:8080/"
        },
        "id": "ncrr8QmyyoF7",
        "outputId": "283a5f53-cf09-45ae-cf79-90d0bf4335ef"
      },
      "outputs": [
        {
          "output_type": "stream",
          "name": "stdout",
          "text": [
            "Looking in indexes: https://pypi.org/simple, https://us-python.pkg.dev/colab-wheels/public/simple/\n",
            "Collecting selenium\n",
            "  Downloading selenium-4.2.0-py3-none-any.whl (983 kB)\n",
            "\u001b[K     |████████████████████████████████| 983 kB 27.9 MB/s \n",
            "\u001b[?25hCollecting urllib3[secure,socks]~=1.26\n",
            "  Downloading urllib3-1.26.9-py2.py3-none-any.whl (138 kB)\n",
            "\u001b[K     |████████████████████████████████| 138 kB 51.3 MB/s \n",
            "\u001b[?25hCollecting trio~=0.17\n",
            "  Downloading trio-0.21.0-py3-none-any.whl (358 kB)\n",
            "\u001b[K     |████████████████████████████████| 358 kB 54.4 MB/s \n",
            "\u001b[?25hCollecting trio-websocket~=0.9\n",
            "  Downloading trio_websocket-0.9.2-py3-none-any.whl (16 kB)\n",
            "Requirement already satisfied: attrs>=19.2.0 in /usr/local/lib/python3.7/dist-packages (from trio~=0.17->selenium) (21.4.0)\n",
            "Collecting sniffio\n",
            "  Downloading sniffio-1.2.0-py3-none-any.whl (10 kB)\n",
            "Collecting outcome\n",
            "  Downloading outcome-1.2.0-py2.py3-none-any.whl (9.7 kB)\n",
            "Collecting async-generator>=1.9\n",
            "  Downloading async_generator-1.10-py3-none-any.whl (18 kB)\n",
            "Requirement already satisfied: idna in /usr/local/lib/python3.7/dist-packages (from trio~=0.17->selenium) (2.10)\n",
            "Requirement already satisfied: sortedcontainers in /usr/local/lib/python3.7/dist-packages (from trio~=0.17->selenium) (2.4.0)\n",
            "Collecting wsproto>=0.14\n",
            "  Downloading wsproto-1.1.0-py3-none-any.whl (24 kB)\n",
            "Requirement already satisfied: PySocks!=1.5.7,<2.0,>=1.5.6 in /usr/local/lib/python3.7/dist-packages (from urllib3[secure,socks]~=1.26->selenium) (1.7.1)\n",
            "Collecting pyOpenSSL>=0.14\n",
            "  Downloading pyOpenSSL-22.0.0-py2.py3-none-any.whl (55 kB)\n",
            "\u001b[K     |████████████████████████████████| 55 kB 3.7 MB/s \n",
            "\u001b[?25hCollecting cryptography>=1.3.4\n",
            "  Downloading cryptography-37.0.2-cp36-abi3-manylinux_2_24_x86_64.whl (4.0 MB)\n",
            "\u001b[K     |████████████████████████████████| 4.0 MB 39.8 MB/s \n",
            "\u001b[?25hRequirement already satisfied: certifi in /usr/local/lib/python3.7/dist-packages (from urllib3[secure,socks]~=1.26->selenium) (2022.5.18.1)\n",
            "Requirement already satisfied: cffi>=1.12 in /usr/local/lib/python3.7/dist-packages (from cryptography>=1.3.4->urllib3[secure,socks]~=1.26->selenium) (1.15.0)\n",
            "Requirement already satisfied: pycparser in /usr/local/lib/python3.7/dist-packages (from cffi>=1.12->cryptography>=1.3.4->urllib3[secure,socks]~=1.26->selenium) (2.21)\n",
            "Collecting h11<1,>=0.9.0\n",
            "  Downloading h11-0.13.0-py3-none-any.whl (58 kB)\n",
            "\u001b[K     |████████████████████████████████| 58 kB 6.0 MB/s \n",
            "\u001b[?25hRequirement already satisfied: typing-extensions in /usr/local/lib/python3.7/dist-packages (from h11<1,>=0.9.0->wsproto>=0.14->trio-websocket~=0.9->selenium) (4.2.0)\n",
            "Installing collected packages: sniffio, outcome, h11, cryptography, async-generator, wsproto, urllib3, trio, pyOpenSSL, trio-websocket, selenium\n",
            "  Attempting uninstall: urllib3\n",
            "    Found existing installation: urllib3 1.24.3\n",
            "    Uninstalling urllib3-1.24.3:\n",
            "      Successfully uninstalled urllib3-1.24.3\n",
            "\u001b[31mERROR: pip's dependency resolver does not currently take into account all the packages that are installed. This behaviour is the source of the following dependency conflicts.\n",
            "requests 2.23.0 requires urllib3!=1.25.0,!=1.25.1,<1.26,>=1.21.1, but you have urllib3 1.26.9 which is incompatible.\n",
            "datascience 0.10.6 requires folium==0.2.1, but you have folium 0.8.3 which is incompatible.\u001b[0m\n",
            "Successfully installed async-generator-1.10 cryptography-37.0.2 h11-0.13.0 outcome-1.2.0 pyOpenSSL-22.0.0 selenium-4.2.0 sniffio-1.2.0 trio-0.21.0 trio-websocket-0.9.2 urllib3-1.26.9 wsproto-1.1.0\n"
          ]
        }
      ],
      "source": [
        "pip install selenium"
      ]
    },
    {
      "cell_type": "code",
      "source": [
        "pip install webdriver-manager"
      ],
      "metadata": {
        "colab": {
          "base_uri": "https://localhost:8080/"
        },
        "id": "bAN_SowSzKEW",
        "outputId": "ce7b7634-a2f1-4924-a407-20a69f3a9c47"
      },
      "execution_count": 3,
      "outputs": [
        {
          "output_type": "stream",
          "name": "stdout",
          "text": [
            "Looking in indexes: https://pypi.org/simple, https://us-python.pkg.dev/colab-wheels/public/simple/\n",
            "Collecting webdriver-manager\n",
            "  Downloading webdriver_manager-3.7.0-py2.py3-none-any.whl (25 kB)\n",
            "Collecting python-dotenv\n",
            "  Downloading python_dotenv-0.20.0-py3-none-any.whl (17 kB)\n",
            "Requirement already satisfied: requests in /usr/local/lib/python3.7/dist-packages (from webdriver-manager) (2.23.0)\n",
            "Requirement already satisfied: idna<3,>=2.5 in /usr/local/lib/python3.7/dist-packages (from requests->webdriver-manager) (2.10)\n",
            "Requirement already satisfied: chardet<4,>=3.0.2 in /usr/local/lib/python3.7/dist-packages (from requests->webdriver-manager) (3.0.4)\n",
            "Collecting urllib3!=1.25.0,!=1.25.1,<1.26,>=1.21.1\n",
            "  Downloading urllib3-1.25.11-py2.py3-none-any.whl (127 kB)\n",
            "\u001b[K     |████████████████████████████████| 127 kB 41.8 MB/s \n",
            "\u001b[?25hRequirement already satisfied: certifi>=2017.4.17 in /usr/local/lib/python3.7/dist-packages (from requests->webdriver-manager) (2022.5.18.1)\n",
            "Installing collected packages: urllib3, python-dotenv, webdriver-manager\n",
            "  Attempting uninstall: urllib3\n",
            "    Found existing installation: urllib3 1.26.9\n",
            "    Uninstalling urllib3-1.26.9:\n",
            "      Successfully uninstalled urllib3-1.26.9\n",
            "\u001b[31mERROR: pip's dependency resolver does not currently take into account all the packages that are installed. This behaviour is the source of the following dependency conflicts.\n",
            "selenium 4.2.0 requires urllib3[secure,socks]~=1.26, but you have urllib3 1.25.11 which is incompatible.\n",
            "datascience 0.10.6 requires folium==0.2.1, but you have folium 0.8.3 which is incompatible.\u001b[0m\n",
            "Successfully installed python-dotenv-0.20.0 urllib3-1.25.11 webdriver-manager-3.7.0\n"
          ]
        }
      ]
    },
    {
      "cell_type": "code",
      "source": [
        "pip install selectorlib"
      ],
      "metadata": {
        "colab": {
          "base_uri": "https://localhost:8080/"
        },
        "id": "dfwUQ-gGzTMc",
        "outputId": "aacdaf10-1173-41af-974c-96a2b90900cd"
      },
      "execution_count": 4,
      "outputs": [
        {
          "output_type": "stream",
          "name": "stdout",
          "text": [
            "Looking in indexes: https://pypi.org/simple, https://us-python.pkg.dev/colab-wheels/public/simple/\n",
            "Collecting selectorlib\n",
            "  Downloading selectorlib-0.16.0-py2.py3-none-any.whl (5.8 kB)\n",
            "Collecting parsel>=1.5.1\n",
            "  Downloading parsel-1.6.0-py2.py3-none-any.whl (13 kB)\n",
            "Requirement already satisfied: pyyaml>=3.12 in /usr/local/lib/python3.7/dist-packages (from selectorlib) (3.13)\n",
            "Requirement already satisfied: Click>=6.0 in /usr/local/lib/python3.7/dist-packages (from selectorlib) (7.1.2)\n",
            "Requirement already satisfied: six>=1.6.0 in /usr/local/lib/python3.7/dist-packages (from parsel>=1.5.1->selectorlib) (1.15.0)\n",
            "Requirement already satisfied: lxml in /usr/local/lib/python3.7/dist-packages (from parsel>=1.5.1->selectorlib) (4.2.6)\n",
            "Collecting w3lib>=1.19.0\n",
            "  Downloading w3lib-1.22.0-py2.py3-none-any.whl (20 kB)\n",
            "Collecting cssselect>=0.9\n",
            "  Downloading cssselect-1.1.0-py2.py3-none-any.whl (16 kB)\n",
            "Installing collected packages: w3lib, cssselect, parsel, selectorlib\n",
            "Successfully installed cssselect-1.1.0 parsel-1.6.0 selectorlib-0.16.0 w3lib-1.22.0\n"
          ]
        }
      ]
    },
    {
      "cell_type": "markdown",
      "source": [
        "###Amazon Web Sraper - Data Science para negócios"
      ],
      "metadata": {
        "id": "nSbzVEK_2btm"
      }
    },
    {
      "cell_type": "markdown",
      "source": [
        "Requisitos:\n",
        "\n",
        "*   Selenium\n",
        "*   Webdriver\n",
        "*   Sectorlib\n",
        "\n",
        "\n",
        "\n",
        "\n"
      ],
      "metadata": {
        "id": "f6hL8D1U2kqL"
      }
    },
    {
      "cell_type": "code",
      "source": [
        "from selenium import webdriver\n",
        "from webdriver_manager.chrome import ChromeDriverManager\n",
        "from selenium.common.exceptions import NoSuchElementException\n",
        "from selectorlib import Extractor\n",
        "import requests\n",
        "import json\n",
        "import time\n",
        "from time import sleep\n"
      ],
      "metadata": {
        "id": "VU9-fqUz0_yV"
      },
      "execution_count": 6,
      "outputs": []
    },
    {
      "cell_type": "markdown",
      "source": [
        "Startup the webdriver"
      ],
      "metadata": {
        "id": "mr6-UZn_3MKa"
      }
    },
    {
      "cell_type": "code",
      "source": [
        "URL = 'https://www.amazon.com.br/Data-Science-para-neg%C3%B3cios-Fawcett/dp/8576089726/ref=cm_cr_arp_d_product_top?ie=UTF8#customerReviews'\n",
        "page = requests.get(URL)\n",
        "print(page)\n",
        "print(page.text)"
      ],
      "metadata": {
        "colab": {
          "base_uri": "https://localhost:8080/"
        },
        "id": "GbZ1na4esm94",
        "outputId": "5e4dad2e-92bd-4552-eab2-c7f99d3b5d4a"
      },
      "execution_count": 7,
      "outputs": [
        {
          "output_type": "stream",
          "name": "stdout",
          "text": [
            "<Response [503]>\n",
            "<!doctype html><html><head><meta charset=\"utf-8\"><meta http-equiv=\"x-ua-compatible\" content=\"ie=edge\"><meta name=\"viewport\" content=\"width=device-width, initial-scale=1, shrink-to-fit=no\"><title>Amazon.com.br Algo deu errado</title><style>html,body{padding:0;margin:0}img{border:0}#a,#b{background:#232f3e;padding:11px;height:35px}#c{position:absolute;left:22px;top:12px}#e{position:relative;max-width:800px;padding:0 40px 0 171px}#f,#g{height:35px;border:0;font-size:1em}#f{width:100%;margin:0;padding:0 10px;border-radius:4px 0 0 4px}#g{cursor:pointer;background:#febd69;font-weight:bold;border-radius:0 4px 4px 0;-webkit-appearance:none;position:absolute;top:0;right:0;padding:0 12px}@media(max-width:500px){#e{padding-left:0}#b{padding:55px 10px 10px}#c{left:6px}}#h{text-align:center;margin:30px 0}#h img{max-width:90%}#d{display:none}#d[src]{display:inline}</style></head><body><form id=\"b\" accept-charset=\"utf-8\" action=\"/s\" method=\"GET\" role=\"search\"><a href=\"/\"><img id=\"c\" src=\"https://images-na.ssl-images-amazon.com/images/G/32/error/logo._TTD_.png\" alt=\"Amazon.com.br\"></a><div id=\"e\"><input id=\"f\" name=\"field-keywords\" placeholder=\"Buscar\"><input id=\"g\" type=\"submit\" value=\"Ir\"></div></form><div id=\"h\"><div><a href=\"/\"><img src=\"https://images-na.ssl-images-amazon.com/images/G/32/error/500-title._TTD_.png\" alt=\"Desculpe! Algo deu errado. Tente novamente ou volte para a pÃ¡gina inicial da Amazon.\"></a></div><img id=\"d\" alt=\"Cachorros da Amazon\"><script>document.getElementById(\"d\").src=\"https://images-na.ssl-images-amazon.com/images/G/32/error/\"+(Math.floor(Math.random()*200)+1)+\"._TTD_.jpg\";</script></div></body></html>\n",
            "\n"
          ]
        }
      ]
    },
    {
      "cell_type": "code",
      "source": [
        "page = requests.get(\"https://www.amazon.com.br/\")\n",
        "print(page)"
      ],
      "metadata": {
        "colab": {
          "base_uri": "https://localhost:8080/"
        },
        "id": "rMGDVLqzjg8h",
        "outputId": "bcf2c307-0748-4ed3-8031-059e7c131dc7"
      },
      "execution_count": 8,
      "outputs": [
        {
          "output_type": "stream",
          "name": "stdout",
          "text": [
            "<Response [503]>\n"
          ]
        }
      ]
    },
    {
      "cell_type": "markdown",
      "source": [
        "site response"
      ],
      "metadata": {
        "id": "yUFtnM0xCa9d"
      }
    },
    {
      "cell_type": "code",
      "source": [
        "r=requests.get('https://www.amazon.com.br/Data-Science-para-neg%C3%B3cios-Fawcett/dp/8576089726/ref=cm_cr_arp_d_product_top?ie=UTF8#customerReviews')\n",
        "r.status_code"
      ],
      "metadata": {
        "colab": {
          "base_uri": "https://localhost:8080/"
        },
        "id": "6gx1B35PqFmb",
        "outputId": "d5909707-6a0d-42cd-d7f2-c96402551cc3"
      },
      "execution_count": 9,
      "outputs": [
        {
          "output_type": "execute_result",
          "data": {
            "text/plain": [
              "503"
            ]
          },
          "metadata": {},
          "execution_count": 9
        }
      ]
    },
    {
      "cell_type": "code",
      "source": [
        "r.request.headers"
      ],
      "metadata": {
        "colab": {
          "base_uri": "https://localhost:8080/"
        },
        "id": "xVi47jMKrcKu",
        "outputId": "33b419d0-88c5-4dde-8e0d-d661b0243dab"
      },
      "execution_count": 10,
      "outputs": [
        {
          "output_type": "execute_result",
          "data": {
            "text/plain": [
              "{'User-Agent': 'python-requests/2.23.0', 'Accept-Encoding': 'gzip, deflate', 'Accept': '*/*', 'Connection': 'keep-alive'}"
            ]
          },
          "metadata": {},
          "execution_count": 10
        }
      ]
    },
    {
      "cell_type": "code",
      "source": [
        "headers={'User-Agent':'Mozilla/5.0 (Windows NT 10.0; Win64; x64) AppleWebKit/537.36 (KHTML, like Gecko) Chrome/102.0.5005.63 Safari/537.36'}"
      ],
      "metadata": {
        "id": "zaF5D_hesO_p"
      },
      "execution_count": 11,
      "outputs": []
    },
    {
      "cell_type": "code",
      "source": [
        "r=requests.get('https://www.amazon.com.br/Data-Science-para-neg%C3%B3cios-Fawcett/dp/8576089726/ref=cm_cr_arp_d_product_top?ie=UTF8#customerReviews',headers=headers)\n",
        "r.status_code"
      ],
      "metadata": {
        "colab": {
          "base_uri": "https://localhost:8080/"
        },
        "id": "6e4eid-owz4q",
        "outputId": "7119374e-d713-4c3a-8a20-b828e9bf1c53"
      },
      "execution_count": 12,
      "outputs": [
        {
          "output_type": "execute_result",
          "data": {
            "text/plain": [
              "503"
            ]
          },
          "metadata": {},
          "execution_count": 12
        }
      ]
    },
    {
      "cell_type": "code",
      "source": [
        "form_data = {'key1': 'value1', 'key2': 'value2'} \n",
        "response = requests.post(\"https://www.amazon.com.br/Data-Science-para-neg%C3%B3cios-Fawcett/dp/8576089726/ref=cm_cr_arp_d_product_top?ie=UTF8#customerReviews\", data=form_data)\n",
        "print(response)\n",
        "print (response.text)"
      ],
      "metadata": {
        "colab": {
          "base_uri": "https://localhost:8080/"
        },
        "id": "lnLp265cWXa2",
        "outputId": "707dd83d-4a93-416e-9839-d70fc0e2fb2c"
      },
      "execution_count": 13,
      "outputs": [
        {
          "output_type": "stream",
          "name": "stdout",
          "text": [
            "<Response [503]>\n",
            "<!doctype html><html><head><meta charset=\"utf-8\"><meta http-equiv=\"x-ua-compatible\" content=\"ie=edge\"><meta name=\"viewport\" content=\"width=device-width, initial-scale=1, shrink-to-fit=no\"><title>Amazon.com.br Algo deu errado</title><style>html,body{padding:0;margin:0}img{border:0}#a,#b{background:#232f3e;padding:11px;height:35px}#c{position:absolute;left:22px;top:12px}#e{position:relative;max-width:800px;padding:0 40px 0 171px}#f,#g{height:35px;border:0;font-size:1em}#f{width:100%;margin:0;padding:0 10px;border-radius:4px 0 0 4px}#g{cursor:pointer;background:#febd69;font-weight:bold;border-radius:0 4px 4px 0;-webkit-appearance:none;position:absolute;top:0;right:0;padding:0 12px}@media(max-width:500px){#e{padding-left:0}#b{padding:55px 10px 10px}#c{left:6px}}#h{text-align:center;margin:30px 0}#h img{max-width:90%}#d{display:none}#d[src]{display:inline}</style></head><body><form id=\"b\" accept-charset=\"utf-8\" action=\"/s\" method=\"GET\" role=\"search\"><a href=\"/\"><img id=\"c\" src=\"https://images-na.ssl-images-amazon.com/images/G/32/error/logo._TTD_.png\" alt=\"Amazon.com.br\"></a><div id=\"e\"><input id=\"f\" name=\"field-keywords\" placeholder=\"Buscar\"><input id=\"g\" type=\"submit\" value=\"Ir\"></div></form><div id=\"h\"><div><a href=\"/\"><img src=\"https://images-na.ssl-images-amazon.com/images/G/32/error/500-title._TTD_.png\" alt=\"Desculpe! Algo deu errado. Tente novamente ou volte para a pÃ¡gina inicial da Amazon.\"></a></div><img id=\"d\" alt=\"Cachorros da Amazon\"><script>document.getElementById(\"d\").src=\"https://images-na.ssl-images-amazon.com/images/G/32/error/\"+(Math.floor(Math.random()*200)+1)+\"._TTD_.jpg\";</script></div></body></html>\n",
            "\n"
          ]
        }
      ]
    },
    {
      "cell_type": "markdown",
      "source": [
        "Scrap"
      ],
      "metadata": {
        "id": "OYCMKcbnDA80"
      }
    },
    {
      "cell_type": "code",
      "source": [
        "from bs4 import BeautifulSoup\n",
        "soup = BeautifulSoup(response.text, 'html.parser')\n",
        "print(soup.title)"
      ],
      "metadata": {
        "colab": {
          "base_uri": "https://localhost:8080/"
        },
        "id": "3b2quetJhgjF",
        "outputId": "f4ff8c57-777d-4ecd-b7f9-b236e0e7d917"
      },
      "execution_count": 15,
      "outputs": [
        {
          "output_type": "stream",
          "name": "stdout",
          "text": [
            "<title>Amazon.com.br Algo deu errado</title>\n"
          ]
        }
      ]
    },
    {
      "cell_type": "code",
      "source": [
        "def search_amazon(item):\n",
        "\n",
        "    driver = webdriver.Chrome(ChromeDriverManager().install())\n",
        "    driver.get('https://www.amazon.com.br')\n",
        "    search_box = driver.find_element_by_id('twotabsearchtextbox').send_keys(item)\n",
        "    search_button = driver.find_element_by_id(\"nav-input nav-progressive-attribute\").click()\n",
        "\n",
        "    driver.implicitly_wait(5)\n",
        "\n",
        "    try:\n",
        "        num_page = driver.find_element_by_xpath('//*[@class=\"a-pagination\"]/li[6]')\n",
        "    except NoSuchElementException:\n",
        "        num_page = driver.find_element_by_class_name('a-last').click()\n",
        "\n",
        "    driver.implicitly_wait(3)\n",
        "\n",
        "    url_list = []\n",
        "\n",
        "    for i in range(int(num_page.text)):\n",
        "        page_ = i + 1\n",
        "        url_list.append(driver.current_url)\n",
        "        driver.implicitly_wait(4)\n",
        "        click_next = driver.find_element_by_class_name('a-last').click()\n",
        "        print(\"Page \" + str(page_) + \" grabbed\")\n",
        "\n",
        "    driver.quit()\n",
        "    \n",
        "    url_list = []\n",
        "\n",
        "    for i in range(int(num_page.text)):\n",
        "        page_ = i + 1\n",
        "        url_list.append(driver.current_url)\n",
        "        driver.implicitly_wait(4)\n",
        "        click_next = driver.find_element_by_class_name('a-last').click()\n",
        "        print(\"Page \" + str(page_) + \" grabbed\")\n",
        "\n",
        "    driver.quit()\n",
        "\n",
        "\n"
      ],
      "metadata": {
        "id": "8gX_rAIXmaoe"
      },
      "execution_count": null,
      "outputs": []
    },
    {
      "cell_type": "code",
      "source": [
        "def scrape(url):\n",
        "\n",
        "    headers = {\n",
        "        'dnt': '1',\n",
        "        'upgrade-insecure-requests': '1',\n",
        "        'user-agent': 'Mozilla/5.0 (Macintosh; Intel Mac OS X 10_15_4) AppleWebKit/537.36 (KHTML, like Gecko) Chrome/83.0.4103.61 Safari/537.36',\n",
        "        'accept': 'text/html,application/xhtml+xml,application/xml;q=0.9,image/webp,image/apng,*/*;q=0.8,application/signed-exchange;v=b3;q=0.9',\n",
        "        'sec-fetch-site': 'same-origin',\n",
        "        'sec-fetch-mode': 'navigate',\n",
        "        'sec-fetch-user': '?1',\n",
        "        'sec-fetch-dest': 'document',\n",
        "        'referer': 'https://www.amazon.com/',\n",
        "        'accept-language': 'en-GB,en-US;q=0.9,en;q=0.8',\n",
        "    }\n",
        "\n",
        "    # Download the page using requests\n",
        "    print(\"Downloading %s\"%url)\n",
        "    r = requests.get(url, headers=headers)\n",
        "    # Simple check to check if page was blocked (Usually 503)\n",
        "    if r.status_code > 500:\n",
        "        if \"To discuss automated access to Amazon data please contact\" in r.text:\n",
        "            print(\"Page %s was blocked by Amazon. Please try using better proxies\\n\"%url)\n",
        "        else:\n",
        "            print(\"Page %s must have been blocked by Amazon as the status code was %d\"%(url,r.status_code))\n",
        "        return None\n",
        "    # Pass the HTML of the page and create\n",
        "    return e.extract(r.text)\n",
        "\n",
        "\n",
        "search_amazon(search_query) # <------ search query goes here.\n",
        "\n",
        "# Create an Extractor by reading from the YAML file\n",
        "e = Extractor.from_yaml_file('search_results.yml')\n",
        "\n",
        "# product_data = []\n",
        "output_file = open('{}_{}_results.jsonl'.format(search_query,date), \"w+\")\n",
        "destination = 'results'\n",
        "\n",
        "with open(\"search_results_urls.txt\",'r') as urllist, open('{}_{}_results.jsonl'.format(search_query,date),'w') as outfile:\n",
        "    for url in urllist.read().splitlines():\n",
        "        data = scrape(url)\n",
        "        if data:\n",
        "            for product in data['products']:\n",
        "                product['search_url'] = url\n",
        "                print(\"Saving Product: %s\"%product['title'].encode('utf8'))\n",
        "                json.dump(product,outfile)\n",
        "                outfile.write(\"\\n\")\n",
        "                # sleep(5)\n",
        "\n",
        "new_path = shutil.move('{}_{}_results.jsonl'.format(search_query, date), destination)\n",
        "\n",
        "print(\"---DONE---\")\n",
        "print('\\n')\n",
        "© 2022 GitHub, Inc.\n",
        "Terms\n",
        "Privacy\n",
        "Security\n",
        "Status\n",
        "Docs\n",
        "Contact GitHub\n",
        "Pricing\n",
        "API\n",
        "Training\n",
        "Blog\n",
        "About\n"
      ],
      "metadata": {
        "id": "PPNZGryNL07A",
        "colab": {
          "base_uri": "https://localhost:8080/",
          "height": 130
        },
        "outputId": "16b61b5a-202a-4376-cb52-5ae07f3731b6"
      },
      "execution_count": null,
      "outputs": [
        {
          "output_type": "error",
          "ename": "SyntaxError",
          "evalue": "ignored",
          "traceback": [
            "\u001b[0;36m  File \u001b[0;32m\"<ipython-input-16-eae04c8b7aa7>\"\u001b[0;36m, line \u001b[0;32m54\u001b[0m\n\u001b[0;31m    © 2022 GitHub, Inc.\u001b[0m\n\u001b[0m    ^\u001b[0m\n\u001b[0;31mSyntaxError\u001b[0m\u001b[0;31m:\u001b[0m invalid character in identifier\n"
          ]
        }
      ]
    }
  ]
}